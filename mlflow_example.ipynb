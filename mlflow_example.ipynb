{
 "cells": [
  {
   "cell_type": "markdown",
   "metadata": {},
   "source": [
    "# Simple MLflow example\n",
    "Simple example that demonstrates use of MLflow by training a Pytorch model using MNIST-dataset.\n",
    "\n",
    "## MLflow basics\n",
    "- Runs: A run is an execution of a data science code. It is a primary unit of logging in MLflow Tracking. Each run records parameters, metrics, and artifacts.\n",
    "- Experiments: An experiment is a collection of runs. It is used to organize and compare different runs. Typically, there is one experiment for each ML project or type of model.\n",
    "- Artifacts: These are output files from ML runs, such as models, data files, plots, or other binary files. There are various types of artifacts, including but not limited to:\n",
    "    - Model artifacts: Serialized models.\n",
    "    - Data artifacts: Datasets, data samples.\n",
    "    - Visualization artifacts: Plots, charts, figures.\n",
    "\n",
    "## Usage\n",
    "1. Open a terminal session, activate virtual environment and start MLflow tracking server:\n",
    "```sh\n",
    "    mlflow ui \\\n",
    "        --backend-store-uri ./my-runs \\\n",
    "        --registry-store-uri ./my-runs \\\n",
    "        --artifacts-destination ./my-artifacts\n",
    "```\n",
    "\n",
    "2. Open a browser tab in http://localhost:5000.\n",
    "\n",
    "3. While keeping the browser tab open, run this notebook and observe the results.\n",
    "\n",
    "## Train a Pytorch model using MNIST-dataset"
   ]
  },
  {
   "cell_type": "code",
   "execution_count": 1,
   "metadata": {},
   "outputs": [],
   "source": [
    "import mlflow\n",
    "import numpy as np\n",
    "import torch\n",
    "import torch.nn as nn\n",
    "import torch.optim as optim\n",
    "from torchvision import datasets, transforms\n",
    "from torch.utils.data import DataLoader\n",
    "import matplotlib.pyplot as plt"
   ]
  },
  {
   "cell_type": "code",
   "execution_count": null,
   "metadata": {},
   "outputs": [],
   "source": [
    "mlflow.set_tracking_uri(\"http://localhost:5000\")\n",
    "\n",
    "mlflow.set_experiment('mnist_pytorch_experiment')\n",
    "\n",
    "# Foobar"
   ]
  },
  {
   "cell_type": "code",
   "execution_count": 3,
   "metadata": {},
   "outputs": [],
   "source": [
    "# Define a simple neural network for MNIST\n",
    "class SimpleNN(nn.Module):\n",
    "    def __init__(self):\n",
    "        super(SimpleNN, self).__init__()\n",
    "        self.fc1 = nn.Linear(28 * 28, 128)\n",
    "        self.fc2 = nn.Linear(128, 128)\n",
    "        self.fc3 = nn.Linear(128, 64)\n",
    "        self.fc4 = nn.Linear(64, 10)\n",
    "\n",
    "    def forward(self, x):\n",
    "        x = x.view(-1, 28 * 28)\n",
    "        x = torch.relu(self.fc1(x))\n",
    "        x = torch.relu(self.fc2(x))\n",
    "        x = torch.relu(self.fc3(x))\n",
    "        x = self.fc4(x)\n",
    "        return x"
   ]
  },
  {
   "cell_type": "code",
   "execution_count": 4,
   "metadata": {},
   "outputs": [],
   "source": [
    "# Prepare MNIST dataset\n",
    "transform = transforms.Compose([transforms.ToTensor(),\n",
    "                                transforms.Normalize((0.5,), (0.5,))])\n",
    "\n",
    "train_dataset = datasets.MNIST(root='./data', train=True, download=True, transform=transform)\n",
    "test_dataset = datasets.MNIST(root='./data', train=False, download=True, transform=transform)\n",
    "train_loader = DataLoader(train_dataset, batch_size=64, shuffle=True)\n",
    "test_loader = DataLoader(test_dataset, batch_size=64, shuffle=False)"
   ]
  },
  {
   "cell_type": "markdown",
   "metadata": {},
   "source": [
    "### Dummy markdown cell"
   ]
  },
  {
   "cell_type": "code",
   "execution_count": 5,
   "metadata": {},
   "outputs": [],
   "source": [
    "# Initialize the model, loss function, and optimizer\n",
    "model = SimpleNN()\n",
    "criterion = nn.CrossEntropyLoss()\n",
    "optimizer = optim.SGD(model.parameters(), lr=0.003, momentum=0.9)"
   ]
  },
  {
   "cell_type": "code",
   "execution_count": 6,
   "metadata": {},
   "outputs": [
    {
     "name": "stdout",
     "output_type": "stream",
     "text": [
      "2\n"
     ]
    }
   ],
   "source": [
    "# New dummy cell\n",
    "assert 1+1 == 2\n",
    "\n",
    "print(1+1)\n"
   ]
  },
  {
   "cell_type": "code",
   "execution_count": null,
   "metadata": {},
   "outputs": [],
   "source": [
    "# Start an MLflow run\n",
    "with mlflow.start_run() as run:\n",
    "    # Log parameters\n",
    "    mlflow.log_param(\"learning_rate\", 0.003)\n",
    "    mlflow.log_param(\"momentum\", 0.003)\n",
    "\n",
    "    # Train the model\n",
    "    epochs = 10\n",
    "    for e in range(epochs):\n",
    "        model.train()\n",
    "        running_loss = 0\n",
    "        for images, labels in train_loader:\n",
    "            optimizer.zero_grad()\n",
    "            \n",
    "            output = model(images)\n",
    "            loss = criterion(output, labels)\n",
    "            \n",
    "            loss.backward()\n",
    "            optimizer.step()\n",
    "            \n",
    "            running_loss += loss.item()\n",
    "        \n",
    "        # Log the average training loss for the epoch\n",
    "        average_train_loss = running_loss / len(train_loader)\n",
    "        mlflow.log_metric(\"average_train_loss\", average_train_loss, step=e)\n",
    "\n",
    "        # Evaluate on the test dataset\n",
    "        model.eval()\n",
    "        test_loss = 0\n",
    "        with torch.no_grad():\n",
    "            for images, labels in test_loader:\n",
    "                output = model(images)\n",
    "                loss = criterion(output, labels)\n",
    "                test_loss += loss.item()\n",
    "\n",
    "        # Log the average test loss for the epoch\n",
    "        average_test_loss = test_loss / len(test_loader)\n",
    "        mlflow.log_metric(\"average_test_loss\", average_test_loss, step=e)\n",
    "\n",
    "    # Log the model\n",
    "    mlflow.pytorch.log_model(model, \"mnist_model\")\n",
    "\n",
    "    # Register the model\n",
    "    model_uri = f\"runs:/{run.info.run_id}/mnist_model\"\n",
    "    model_details = mlflow.register_model(model_uri=model_uri, name=\"MNISTModel\")\n"
   ]
  },
  {
   "cell_type": "markdown",
   "metadata": {},
   "source": [
    "## Load saved model and predict class for single MNIST image\n",
    "Load saved model and predict class for a single MNIST image."
   ]
  },
  {
   "cell_type": "code",
   "execution_count": 12,
   "metadata": {},
   "outputs": [
    {
     "name": "stdout",
     "output_type": "stream",
     "text": [
      "SimpleNN(\n",
      "  (fc1): Linear(in_features=784, out_features=128, bias=True)\n",
      "  (fc2): Linear(in_features=128, out_features=128, bias=True)\n",
      "  (fc3): Linear(in_features=128, out_features=64, bias=True)\n",
      "  (fc4): Linear(in_features=64, out_features=10, bias=True)\n",
      ")\n"
     ]
    }
   ],
   "source": [
    "loaded_model = mlflow.pytorch.load_model(model_uri=\"models:/MNISTModel/2\")\n",
    "print(loaded_model)"
   ]
  },
  {
   "cell_type": "code",
   "execution_count": 13,
   "metadata": {},
   "outputs": [],
   "source": [
    "def predict_and_visualize(model, dataset, index):\n",
    "    \"\"\"\n",
    "    Function to predict the digit of a given image in a dataset and visualize the image.\n",
    "    \n",
    "    Args:\n",
    "        model: Trained PyTorch model.\n",
    "        dataset: PyTorch dataset containing images.\n",
    "        index: Index of the image in the dataset.\n",
    "    \"\"\"\n",
    "    model.eval()\n",
    "    img, true_label = dataset[index]\n",
    "    \n",
    "    # Add a batch dimension and send the image to the same device as the model\n",
    "    img = img.unsqueeze(0)\n",
    "    device = torch.device(\"cuda\" if torch.cuda.is_available() else \"cpu\")\n",
    "    img = img.to(device)\n",
    "    model = model.to(device)\n",
    "    \n",
    "    # Make a prediction\n",
    "    with torch.no_grad():\n",
    "        logits = model(img)\n",
    "        predicted = torch.argmax(logits, dim=1)  # Get the index of the max log-probability\n",
    "    \n",
    "    # Remove batch dimension, move to cpu and convert to numpy array\n",
    "    img = img.squeeze().cpu().numpy()\n",
    "    \n",
    "    # Visualize the image and the prediction\n",
    "    plt.imshow(img, cmap='Greys_r')\n",
    "    plt.title(f'Predicted Digit: {predicted.item()}, True Label: {true_label}')\n",
    "    plt.show()"
   ]
  },
  {
   "cell_type": "code",
   "execution_count": 14,
   "metadata": {},
   "outputs": [
    {
     "data": {
      "image/png": "[encoded data removed]",
      "text/plain": [
       "<Figure size 640x480 with 1 Axes>"
      ]
     },
     "metadata": {},
     "output_type": "display_data"
    }
   ],
   "source": [
    "predict_and_visualize(loaded_model, test_dataset, index=0)"
   ]
  }
 ],
 "metadata": {
  "kernelspec": {
   "display_name": ".venv",
   "language": "python",
   "name": "python3"
  },
  "language_info": {
   "codemirror_mode": {
    "name": "ipython",
    "version": 3
   },
   "file_extension": ".py",
   "mimetype": "text/x-python",
   "name": "python",
   "nbconvert_exporter": "python",
   "pygments_lexer": "ipython3",
   "version": "3.11.7"
  }
 },
 "nbformat": 4,
 "nbformat_minor": 2
}
